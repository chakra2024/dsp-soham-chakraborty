{
 "cells": [
  {
   "cell_type": "code",
   "execution_count": 1,
   "id": "ea99de6f-a14e-4a96-b769-7adee5d1ce73",
   "metadata": {},
   "outputs": [],
   "source": [
    "import numpy as np\n",
    "from IPython.display import display"
   ]
  },
  {
   "cell_type": "code",
   "execution_count": 2,
   "id": "68404d66-1802-4764-a406-6b2894f113d3",
   "metadata": {},
   "outputs": [
    {
     "data": {
      "text/plain": [
       "array([[25, 27, 40],\n",
       "       [28, 68, 50],\n",
       "       [79, 82, 57],\n",
       "       [64,  3, 70],\n",
       "       [82, 92, 75],\n",
       "       [16, 58, 96],\n",
       "       [11, 41, 75],\n",
       "       [ 7, 45, 10],\n",
       "       [40,  5, 81],\n",
       "       [40, 42, 53]])"
      ]
     },
     "metadata": {},
     "output_type": "display_data"
    }
   ],
   "source": [
    "my_array = np.random.randint(0,100,(10,3))\n",
    "display(my_array)"
   ]
  },
  {
   "cell_type": "code",
   "execution_count": null,
   "id": "5d377e13-5b79-4f0b-b302-f1a36c9eb403",
   "metadata": {},
   "outputs": [],
   "source": []
  }
 ],
 "metadata": {
  "kernelspec": {
   "display_name": "Python 3 (ipykernel)",
   "language": "python",
   "name": "python3"
  },
  "language_info": {
   "codemirror_mode": {
    "name": "ipython",
    "version": 3
   },
   "file_extension": ".py",
   "mimetype": "text/x-python",
   "name": "python",
   "nbconvert_exporter": "python",
   "pygments_lexer": "ipython3",
   "version": "3.9.20"
  }
 },
 "nbformat": 4,
 "nbformat_minor": 5
}
