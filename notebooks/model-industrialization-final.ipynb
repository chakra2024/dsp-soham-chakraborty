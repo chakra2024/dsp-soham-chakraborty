{
 "cells": [
  {
   "cell_type": "code",
   "execution_count": null,
   "id": "b6c3351e",
   "metadata": {},
   "outputs": [],
   "source": [
    "# Import necessary libraries\n",
    "import pandas as pd\n",
    "from house_prices.train import build_model\n",
    "from house_prices.inference import make_predictions"
   ]
  },
  {
   "cell_type": "markdown",
   "id": "b24ba3c5",
   "metadata": {},
   "source": [
    "# Model Building"
   ]
  },
  {
   "cell_type": "code",
   "execution_count": null,
   "id": "3a695a45",
   "metadata": {},
   "outputs": [],
   "source": [
    "# Load training data\n",
    "training_data_df = pd.read_csv('C:/Users/SOHAM/dsp-soham-chakraborty/data/train.csv')\n",
    "\n",
    "# Build the model and print the performance\n",
    "model_performance_dict = build_model(training_data_df)\n",
    "print(model_performance_dict)"
   ]
  },
  {
   "cell_type": "markdown",
   "id": "88d80926",
   "metadata": {},
   "source": [
    "# Model Inference"
   ]
  },
  {
   "cell_type": "code",
   "execution_count": null,
   "id": "76365f80",
   "metadata": {},
   "outputs": [],
   "source": [
    "# Load inference data\n",
    "user_data_df = pd.read_csv('C:/Users/SOHAM/dsp-soham-chakraborty/data/test.csv')\n",
    "\n",
    "# Make predictions and print the results\n",
    "predictions = make_predictions(user_data_df)\n",
    "print(predictions)"
   ]
  }
 ],
 "metadata": {
  "kernelspec": {
   "display_name": "Python 3 (ipykernel)",
   "language": "python",
   "name": "python3"
  },
  "language_info": {
   "codemirror_mode": {
    "name": "ipython",
    "version": 3
   },
   "file_extension": ".py",
   "mimetype": "text/x-python",
   "name": "python",
   "nbconvert_exporter": "python",
   "pygments_lexer": "ipython3",
   "version": "3.11.3"
  }
 },
 "nbformat": 4,
 "nbformat_minor": 5
}
