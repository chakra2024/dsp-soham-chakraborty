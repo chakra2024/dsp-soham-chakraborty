{
 "cells": [
  {
   "cell_type": "code",
   "execution_count": 1,
   "id": "b6c3351e",
   "metadata": {},
   "outputs": [],
   "source": [
    "import sys"
   ]
  },
  {
   "cell_type": "code",
   "execution_count": 2,
   "id": "b68723d2",
   "metadata": {},
   "outputs": [],
   "source": [
    "sys.path.append('..')"
   ]
  },
  {
   "cell_type": "code",
   "execution_count": 3,
   "id": "bc49d578",
   "metadata": {},
   "outputs": [
    {
     "data": {
      "text/plain": [
       "['C:\\\\Users\\\\SOHAM\\\\dsp-soham-chakraborty\\\\notebooks',\n",
       " 'C:\\\\Users\\\\SOHAM\\\\anaconda3\\\\python311.zip',\n",
       " 'C:\\\\Users\\\\SOHAM\\\\anaconda3\\\\DLLs',\n",
       " 'C:\\\\Users\\\\SOHAM\\\\anaconda3\\\\Lib',\n",
       " 'C:\\\\Users\\\\SOHAM\\\\anaconda3',\n",
       " '',\n",
       " 'C:\\\\Users\\\\SOHAM\\\\anaconda3\\\\Lib\\\\site-packages',\n",
       " 'C:\\\\Users\\\\SOHAM\\\\anaconda3\\\\Lib\\\\site-packages\\\\win32',\n",
       " 'C:\\\\Users\\\\SOHAM\\\\anaconda3\\\\Lib\\\\site-packages\\\\win32\\\\lib',\n",
       " 'C:\\\\Users\\\\SOHAM\\\\anaconda3\\\\Lib\\\\site-packages\\\\Pythonwin',\n",
       " '..']"
      ]
     },
     "execution_count": 3,
     "metadata": {},
     "output_type": "execute_result"
    }
   ],
   "source": [
    "sys.path"
   ]
  },
  {
   "cell_type": "code",
   "execution_count": 4,
   "id": "61f884d9",
   "metadata": {},
   "outputs": [],
   "source": [
    "# Import necessary libraries\n",
    "import pandas as pd\n",
    "from house_prices.train import build_model\n",
    "from house_prices.inference import make_predictions"
   ]
  },
  {
   "cell_type": "markdown",
   "id": "b24ba3c5",
   "metadata": {},
   "source": [
    "# Model Building"
   ]
  },
  {
   "cell_type": "code",
   "execution_count": 5,
   "id": "3a695a45",
   "metadata": {},
   "outputs": [
    {
     "name": "stdout",
     "output_type": "stream",
     "text": [
      "{'rmse': 42702.70509463134}\n"
     ]
    }
   ],
   "source": [
    "# Load training data\n",
    "training_data_df = pd.read_csv('C:/Users/SOHAM/dsp-soham-chakraborty/data/train.csv')\n",
    "\n",
    "# Build the model and print the performance\n",
    "model_performance_dict = build_model(training_data_df)\n",
    "print(model_performance_dict)"
   ]
  },
  {
   "cell_type": "markdown",
   "id": "88d80926",
   "metadata": {},
   "source": [
    "# Model Inference"
   ]
  },
  {
   "cell_type": "code",
   "execution_count": 6,
   "id": "76365f80",
   "metadata": {},
   "outputs": [
    {
     "name": "stdout",
     "output_type": "stream",
     "text": [
      "[101872.6718482  129607.08349072 189739.96063635 ... 157001.48484206\n",
      " 107617.70951989 234409.30836151]\n"
     ]
    }
   ],
   "source": [
    "# Load inference data\n",
    "user_data_df = pd.read_csv('C:/Users/SOHAM/dsp-soham-chakraborty/data/test.csv')\n",
    "\n",
    "# Make predictions and print the results\n",
    "predictions = make_predictions(user_data_df)\n",
    "print(predictions)"
   ]
  },
  {
   "cell_type": "code",
   "execution_count": null,
   "id": "6d0ff680",
   "metadata": {},
   "outputs": [],
   "source": []
  }
 ],
 "metadata": {
  "kernelspec": {
   "display_name": "Python 3 (ipykernel)",
   "language": "python",
   "name": "python3"
  },
  "language_info": {
   "codemirror_mode": {
    "name": "ipython",
    "version": 3
   },
   "file_extension": ".py",
   "mimetype": "text/x-python",
   "name": "python",
   "nbconvert_exporter": "python",
   "pygments_lexer": "ipython3",
   "version": "3.11.3"
  }
 },
 "nbformat": 4,
 "nbformat_minor": 5
}
